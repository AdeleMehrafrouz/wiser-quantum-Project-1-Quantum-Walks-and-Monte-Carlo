{
 "cells": [
  {
   "cell_type": "code",
   "execution_count": 1,
   "id": "b3962678",
   "metadata": {},
   "outputs": [
    {
     "name": "stdout",
     "output_type": "stream",
     "text": [
      "TVD (ideal vs noisy): 0.0703125\n",
      "KL Divergence: 0.01952906738495135\n"
     ]
    }
   ],
   "source": [
    "# noise_vs_ideal.ipynb\n",
    "\n",
    "from circuits.quantum_peg_multi import run_qgb, postprocess_qgb\n",
    "from metrics.distance_metrics_multi import total_variation_distance, kl_divergence\n",
    "from qiskit_aer.noise import NoiseModel, depolarizing_error, ReadoutError\n",
    "from qiskit_aer import AerSimulator\n",
    "import matplotlib.pyplot as plt\n",
    "import numpy as np\n",
    "\n",
    "# 1. Create noise model\n",
    "noise_model = NoiseModel()\n",
    "p1, p2, p3 = 0.001, 0.01, 0.02\n",
    "\n",
    "noise_model.add_all_qubit_quantum_error(depolarizing_error(p1, 1), ['x', 'h', 'rx'])\n",
    "noise_model.add_all_qubit_quantum_error(depolarizing_error(p2, 2), ['cx'])\n",
    "noise_model.add_all_qubit_quantum_error(depolarizing_error(p3, 3), ['cswap', 'ccx'])\n",
    "\n",
    "readout = ReadoutError([[0.98, 0.02], [0.02, 0.98]])\n",
    "noise_model.add_all_qubit_readout_error(readout)\n",
    "\n",
    "\n",
    "sim_noisy = AerSimulator(noise_model=noise_model)\n",
    "\n",
    "# 2. Compare ideal vs noisy QGB\n",
    "layers = 3\n",
    "ideal_qc, ideal_counts = run_qgb(layers, theta=np.pi/2)\n",
    "ideal_dist = postprocess_qgb(ideal_counts)\n",
    "\n",
    "compiled_noisy = ideal_qc.copy()\n",
    "compiled_noisy = compiled_noisy.decompose()\n",
    "job = sim_noisy.run(compiled_noisy, shots=1024)\n",
    "noisy_counts = job.result().get_counts()\n",
    "noisy_dist = postprocess_qgb(noisy_counts)\n",
    "\n",
    "# 3. Distance metrics\n",
    "print(\"TVD (ideal vs noisy):\", total_variation_distance(ideal_dist, noisy_dist))\n",
    "print(\"KL Divergence:\", kl_divergence(ideal_dist, noisy_dist))\n"
   ]
  }
 ],
 "metadata": {
  "kernelspec": {
   "display_name": "qugalton-env",
   "language": "python",
   "name": "python3"
  },
  "language_info": {
   "codemirror_mode": {
    "name": "ipython",
    "version": 3
   },
   "file_extension": ".py",
   "mimetype": "text/x-python",
   "name": "python",
   "nbconvert_exporter": "python",
   "pygments_lexer": "ipython3",
   "version": "3.11.8"
  }
 },
 "nbformat": 4,
 "nbformat_minor": 5
}
